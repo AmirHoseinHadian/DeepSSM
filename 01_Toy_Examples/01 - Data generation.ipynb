{
 "cells": [
  {
   "cell_type": "code",
   "execution_count": 1,
   "metadata": {
    "id": "UoarxeXhTPcU"
   },
   "outputs": [],
   "source": [
    "import numpy as np\n",
    "import pandas as pd"
   ]
  },
  {
   "cell_type": "markdown",
   "metadata": {},
   "source": [
    "## Race diffusion model:\n",
    "\n",
    "Race diffusion model is an evidence accumulation model which assumes the decision maker assigns an accumulator to each option and select the option the wins the race between accumulators (i.e., reaches the threshold first). The accumulation process in this model can be formulated as follows:\n",
    "\n",
    "$$X_i(t+\\Delta t) = X_i(t) + v_i \\Delta t + \\sigma (\\Delta t)^{\\frac{1}{2}} \\xi, ~~~~~~~~~ \\xi \\sim \\mathcal{N}(0, 1)$$\n",
    "\n",
    "For more discussion on diffusion models you can check:\n",
    "\n",
    "- [Ratcliff, R., Smith, P. L., Brown, S. D., & McKoon, G. (2016). Diffusion decision model: Current issues and history. Trends in cognitive sciences, 20(4), 260-281.](https://www.sciencedirect.com/science/article/pii/S1364661316000255)\n",
    "\n",
    "- [Evans, Nathan J., Wagenmakers, Eric-Jan (2020) Evidence Accumulation Models: Current Limitations and Future Directions, The Quantitative Methods for Psychology, 16(2), 73-90.](https://www.tqmp.org/RegularArticles/vol16-2/p073/)\n",
    "\n",
    "- [Heathcote, A., & Matzke, D. (2022). Winner takes all! What are race models, and why and how should psychologists use them?. Current Directions in Psychological Science, 31(5), 383-394.](https://journals.sagepub.com/doi/full/10.1177/09637214221095852)\n",
    "\n",
    "- [Rasanan, A. H. H., Evans, N. J., Rieskamp, J., & Rad, J. A. (2024). Response time and accuracy modeling through the lens of fractional dynamics: A foundational primer. In Computation and Modeling for Fractional Order Systems (pp. 1-27). Academic Press.](https://www.sciencedirect.com/science/article/pii/B9780443154041000060)"
   ]
  },
  {
   "cell_type": "code",
   "execution_count": 2,
   "metadata": {
    "id": "KEzdVsAPY4Fn"
   },
   "outputs": [],
   "source": [
    "def race_diffusion_trial(v, b, ndt=0, sigma=1, dt=0.001):\n",
    "    x = np.array([0.0, 0.0]) # Both accumulators start from zero\n",
    "    rt = 0\n",
    "    ch = -1\n",
    "    stop = False\n",
    "    while not stop:\n",
    "        x[0] += v[0]*dt + sigma*np.random.normal(0, 1)*np.sqrt(dt)\n",
    "        x[1] += v[1]*dt + sigma*np.random.normal(0, 1)*np.sqrt(dt)\n",
    "        rt += dt\n",
    "        if x[0]>= b and x[1]<b: # First accumulator reached first\n",
    "            ch = 0.0\n",
    "            stop = True\n",
    "        elif x[1]>= b and x[0]<b: # Second accumulator reached first\n",
    "            ch = 1.0\n",
    "            stop = True\n",
    "        elif x[0]>= b and x[1]>=b: # Both accumulators reached at the same time \n",
    "            rt = 0\n",
    "            x = np.array([0.0, 0.0]) # restart the process\n",
    "    \n",
    "    return rt+ndt, ch"
   ]
  },
  {
   "cell_type": "markdown",
   "metadata": {},
   "source": [
    "## Mapping function examples:\n",
    "\n",
    "\n",
    "1) Polynomial mapping function:\n",
    "\n",
    "$$m(U_1, U_2) = c \\times \\Big(\\frac{U_1}{U_2}\\Big)^{\\alpha}$$\n",
    "\n",
    "2) Sigmoidal mapping function:\n",
    "$$m(U_1, U_2) = s \\frac{U_1}{1 + \\exp\\big(- \\tau (U_1 - U_2)\\big)}$$"
   ]
  },
  {
   "cell_type": "code",
   "execution_count": 3,
   "metadata": {
    "id": "9gOhqHBxeoco"
   },
   "outputs": [],
   "source": [
    "def polynomial(U1, U2, scaling, sensitivity):\n",
    "    return scaling * (U1/U2)**sensitivity\n",
    "\n",
    "def sigmoidal(U1, U2, scaling, sensitivity):\n",
    "    return scaling * U1/ (1 + np.exp(-sensitivity*(U1 - U2)))"
   ]
  },
  {
   "cell_type": "markdown",
   "metadata": {},
   "source": [
    "## Data simulation:\n",
    "\n",
    "- 100 subjects\n",
    "- 200 trials for each subject"
   ]
  },
  {
   "cell_type": "code",
   "execution_count": 4,
   "metadata": {},
   "outputs": [],
   "source": [
    "def simulate_group_data(mapping_function, \n",
    "                        min_val0=None, max_val0=None,\n",
    "                        min_val1=None, max_val1=None,\n",
    "                        n_subject=100, trial_per_sbj=200):\n",
    "    data = {'sbj': [], 'trial': [], 'value_0': [], 'value_1': [],\n",
    "            'gaze_0': [], 'gaze_1': [], 'true_drift_0': [], 'true_drift_1': [],\n",
    "            'true_threshold': [],'true_ndt':[], 'rt': [], 'choice': []}\n",
    "    \n",
    "    for sbj in range(n_subject):\n",
    "        scaling = np.random.uniform(0.3, 1)\n",
    "        sensitivity = np.random.uniform(0.5, 1.5)\n",
    "        gam = np.random.uniform(0.3, 1)\n",
    "        threshold = np.random.uniform(0.5, 3)\n",
    "        ndt = np.random.uniform(0.1, 1)\n",
    "\n",
    "        for t in range(trial_per_sbj):\n",
    "            data['sbj'].append(sbj+1)\n",
    "            data['trial'].append(t+1)\n",
    "\n",
    "            if t % 2 == 0:\n",
    "                value0 = np.random.uniform(min_val0, max_val0)\n",
    "                value1 = np.random.uniform(min_val1, max_val1)\n",
    "                g0 = np.random.uniform(0.55, .95)\n",
    "                g1 = 1 - g0\n",
    "            else:\n",
    "                value1 = np.random.uniform(min_val0, max_val0)\n",
    "                value0 = np.random.uniform(min_val1, max_val1)\n",
    "                g1 = np.random.uniform(0.55, .95)\n",
    "                g0 = 1 - g1        \n",
    "\n",
    "            data['value_0'].append(value0)\n",
    "            data['value_1'].append(value1)\n",
    "            data['gaze_0'].append(g0)\n",
    "            data['gaze_1'].append(g1)\n",
    "\n",
    "            drift0 = mapping_function(g0*value0 + gam*g1*value0, \n",
    "                                      g1*value1 + gam*g0*value1,\n",
    "                                      scaling, sensitivity)\n",
    "            drift1 = mapping_function(g1*value1 + gam*g0*value1,\n",
    "                                      g0*value0 + gam*g1*value0, \n",
    "                                      scaling, sensitivity)\n",
    "\n",
    "            data['true_drift_0'].append(drift0)\n",
    "            data['true_drift_1'].append(drift1)\n",
    "            data['true_threshold'].append(threshold)\n",
    "            data['true_ndt'].append(ndt)\n",
    "\n",
    "            rt, ch = race_diffusion_trial([drift0, drift1], threshold, ndt=ndt)\n",
    "\n",
    "            data['rt'].append(rt)\n",
    "            data['choice'].append(ch)\n",
    "    \n",
    "    return pd.DataFrame(data)"
   ]
  },
  {
   "cell_type": "code",
   "execution_count": 5,
   "metadata": {},
   "outputs": [],
   "source": [
    "data_polynomial = simulate_group_data(polynomial,\n",
    "                                      min_val0=1, max_val0=3,\n",
    "                                      min_val1=2, max_val1=4,\n",
    "                                      n_subject=100, trial_per_sbj=200)\n",
    "data_polynomial = data_polynomial[data_polynomial['rt']<=10].reset_index(drop=True)\n",
    "data_polynomial.to_csv('simulation_polynomial.csv')\n",
    "\n",
    "\n",
    "data_sigmoidal = simulate_group_data(sigmoidal,\n",
    "                                     min_val0=1, max_val0=4,\n",
    "                                     min_val1=3, max_val1=6,\n",
    "                                     n_subject=100, trial_per_sbj=200)\n",
    "data_sigmoidal = data_sigmoidal[data_sigmoidal['rt']<=10].reset_index(drop=True)\n",
    "data_sigmoidal.to_csv('simulation_sigmoidal.csv')"
   ]
  }
 ],
 "metadata": {
  "accelerator": "GPU",
  "colab": {
   "gpuType": "T4",
   "provenance": []
  },
  "kernelspec": {
   "display_name": "Python 3 (ipykernel)",
   "language": "python",
   "name": "python3"
  },
  "language_info": {
   "codemirror_mode": {
    "name": "ipython",
    "version": 3
   },
   "file_extension": ".py",
   "mimetype": "text/x-python",
   "name": "python",
   "nbconvert_exporter": "python",
   "pygments_lexer": "ipython3",
   "version": "3.10.6"
  }
 },
 "nbformat": 4,
 "nbformat_minor": 1
}
