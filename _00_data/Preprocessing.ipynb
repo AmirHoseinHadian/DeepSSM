{
 "cells": [
  {
   "cell_type": "code",
   "execution_count": 1,
   "id": "fd5d23e6",
   "metadata": {},
   "outputs": [],
   "source": [
    "import numpy as np\n",
    "import pandas as pd\n",
    "\n",
    "from sklearn.preprocessing import MinMaxScaler\n",
    "from sklearn.preprocessing import KBinsDiscretizer"
   ]
  },
  {
   "cell_type": "markdown",
   "id": "9e93e4f2",
   "metadata": {},
   "source": [
    "# Krajbich 2010:"
   ]
  },
  {
   "cell_type": "code",
   "execution_count": 2,
   "id": "11c98355",
   "metadata": {},
   "outputs": [],
   "source": [
    "kr2010 = pd.read_csv('Kr2010.csv', index_col=0)\n",
    "kr2010['sbj'] -= 1\n",
    "kr2010['choice'] -= 1\n",
    "kr2010.to_csv('Kr2010_prep.csv')"
   ]
  },
  {
   "cell_type": "markdown",
   "id": "9b10cd36",
   "metadata": {},
   "source": [
    "# Tavares 2017:"
   ]
  },
  {
   "cell_type": "code",
   "execution_count": 3,
   "id": "f441e4b9",
   "metadata": {},
   "outputs": [],
   "source": [
    "tv2017 = pd.read_csv('Tavares2017.csv')\n",
    "tv2017['rt'] /= 1000\n",
    "\n",
    "tv2017.rename(columns={'subject': 'sbj'}, inplace=True)\n",
    "\n",
    "mean_rt = tv2017.groupby('sbj')['rt'].mean()\n",
    "std_rt = tv2017.groupby('sbj')['rt'].std()\n",
    "RT_Max = mean_rt + 2 * std_rt\n",
    "\n",
    "rt_max = []\n",
    "for i in range(tv2017.shape[0]):\n",
    "    rt_max.append(RT_Max[tv2017['sbj'][i]])\n",
    "tv2017['rt_max'] = rt_max\n",
    "tv2017 = tv2017[(tv2017['rt']>0.25) & (tv2017['rt']<tv2017['rt_max'])].reset_index(drop=True)\n",
    "\n",
    "tv2017.reset_index(drop=True, inplace=True)\n",
    "\n",
    "tv2017['Right Value - Left Value'] = tv2017['item_value_1'] - tv2017['item_value_0']\n",
    "\n",
    "tv2017['gaze diff'] = tv2017['gaze_1'] - tv2017['gaze_0']\n",
    "kbins = KBinsDiscretizer(n_bins=9, encode='ordinal', strategy='uniform')\n",
    "tv2017['gaze diff'] = kbins.fit_transform(tv2017[['gaze diff']])\n",
    "mms = MinMaxScaler(feature_range=(-1, 1))\n",
    "tv2017['Dwell Time Advantage (R - L)'] = mms.fit_transform(tv2017[['gaze diff']])\n",
    "\n",
    "tv2017.to_csv('Tavares2017_prep.csv')"
   ]
  },
  {
   "cell_type": "markdown",
   "id": "71135f08",
   "metadata": {},
   "source": [
    "# Sepulveda 2020 (Perceptual):"
   ]
  },
  {
   "cell_type": "code",
   "execution_count": 4,
   "id": "59975995",
   "metadata": {},
   "outputs": [],
   "source": [
    "df1 = pd.read_csv('Sepulveda_et_al_2020-master/data/perceptual/GlamDataPF2019_Less_NoBin.csv', index_col=0)\n",
    "df2 = pd.read_csv('Sepulveda_et_al_2020-master/data/perceptual/GlamDataPF2019_More_NoBin.csv', index_col=0)\n",
    "df1['goal'] = -1\n",
    "df2['goal'] = 1\n",
    "sep2020p = pd.concat([df1, df2]).sort_values(by=['subject', 'trial'])\n",
    "sep2020p.reset_index(drop=True, inplace=True)\n",
    "\n",
    "sep2020p['rt'] /= 1000\n",
    "\n",
    "sep2020p.rename(columns={'subject': 'sbj'}, inplace=True)\n",
    "sep2020p['sbj'] = sep2020p['sbj'].map({sep2020p['sbj'].unique()[i]:i for i in range(len(sep2020p['sbj'].unique()))})\n",
    "\n",
    "mean_rt = sep2020p.groupby('sbj')['rt'].mean()\n",
    "std_rt = sep2020p.groupby('sbj')['rt'].std()\n",
    "RT_Max = mean_rt + 3 * std_rt\n",
    "\n",
    "rt_max = []\n",
    "for i in range(sep2020p.shape[0]):\n",
    "    rt_max.append(RT_Max[sep2020p['sbj'][i]])\n",
    "sep2020p['rt_max'] = rt_max\n",
    "sep2020p = sep2020p[(sep2020p['rt']>0.25) & (sep2020p['rt']<sep2020p['rt_max'])].reset_index(drop=True)\n",
    "\n",
    "sep2020p.reset_index(drop=True, inplace=True)\n",
    "\n",
    "sep2020p['value diff'] = sep2020p['item_value_1'] - sep2020p['item_value_0']\n",
    "kbins = KBinsDiscretizer(n_bins=9, encode='ordinal', strategy='uniform')\n",
    "sep2020p['value diff'] = kbins.fit_transform(sep2020p[['value diff']])\n",
    "mms = MinMaxScaler(feature_range=(-20, 20))\n",
    "sep2020p['Right Value - Left Value'] = mms.fit_transform(sep2020p[['value diff']])\n",
    "\n",
    "sep2020p['gaze diff'] = sep2020p['gaze_1'] - sep2020p['gaze_0']\n",
    "kbins = KBinsDiscretizer(n_bins=9, encode='ordinal', strategy='uniform')\n",
    "sep2020p['gaze diff'] = kbins.fit_transform(sep2020p[['gaze diff']])\n",
    "mms = MinMaxScaler(feature_range=(-1, 1))\n",
    "sep2020p['Dwell Time Advantage (R - L)'] = mms.fit_transform(sep2020p[['gaze diff']])\n",
    "\n",
    "sep2020p.to_csv('Sepulveda2020_perceptual_prep.csv')"
   ]
  },
  {
   "cell_type": "markdown",
   "id": "dce0eaad",
   "metadata": {},
   "source": [
    "# Sepulveda 2020 (Value-based):"
   ]
  },
  {
   "cell_type": "code",
   "execution_count": 5,
   "id": "bb299581",
   "metadata": {},
   "outputs": [],
   "source": [
    "df1 = pd.read_csv('Sepulveda_et_al_2020-master/data/value/GlamDataFF2018_Dislike_NoBin.csv', index_col=0)\n",
    "df2 = pd.read_csv('Sepulveda_et_al_2020-master/data/value/GlamDataFF2018_Like_NoBin.csv', index_col=0)\n",
    "df1['goal'] = -1\n",
    "df2['goal'] = 1\n",
    "sep2020vb = pd.concat([df1, df2]).sort_values(by=['subject', 'trial'])\n",
    "sep2020vb.reset_index(drop=True, inplace=True)\n",
    "\n",
    "sep2020vb['rt'] /= 1000\n",
    "\n",
    "sep2020vb.rename(columns={'subject': 'sbj'}, inplace=True)\n",
    "sep2020vb['sbj'] = sep2020vb['sbj'].map({sep2020vb['sbj'].unique()[i]:i for i in range(len(sep2020vb['sbj'].unique()))})\n",
    "\n",
    "mean_rt = sep2020vb.groupby('sbj')['rt'].mean()\n",
    "std_rt = sep2020vb.groupby('sbj')['rt'].std()\n",
    "RT_Max = mean_rt + 3 * std_rt\n",
    "\n",
    "rt_max = []\n",
    "for i in range(sep2020vb.shape[0]):\n",
    "    rt_max.append(RT_Max[sep2020vb['sbj'][i]])\n",
    "sep2020vb['rt_max'] = rt_max\n",
    "sep2020vb = sep2020vb[(sep2020vb['rt']>0.25) & (sep2020vb['rt']<sep2020vb['rt_max'])].reset_index(drop=True)\n",
    "\n",
    "sep2020vb.reset_index(drop=True, inplace=True)\n",
    "\n",
    "sep2020vb['value diff'] = sep2020vb['item_value_1'] - sep2020vb['item_value_0']\n",
    "kbins = KBinsDiscretizer(n_bins=11, encode='ordinal', strategy='uniform')\n",
    "sep2020vb['value diff'] = kbins.fit_transform(sep2020vb[['value diff']])\n",
    "mms = MinMaxScaler(feature_range=(-5, 5))\n",
    "sep2020vb['Right Value - Left Value'] = mms.fit_transform(sep2020vb[['value diff']])\n",
    "\n",
    "sep2020vb['gaze diff'] = sep2020vb['gaze_1'] - sep2020vb['gaze_0']\n",
    "kbins = KBinsDiscretizer(n_bins=9, encode='ordinal', strategy='uniform')\n",
    "sep2020vb['gaze diff'] = kbins.fit_transform(sep2020vb[['gaze diff']])\n",
    "mms = MinMaxScaler(feature_range=(-1, 1))\n",
    "sep2020vb['Dwell Time Advantage (R - L)'] = mms.fit_transform(sep2020vb[['gaze diff']])\n",
    "\n",
    "sep2020vb.to_csv('Sepulveda2020_value_prep.csv')"
   ]
  },
  {
   "cell_type": "markdown",
   "id": "112e9791",
   "metadata": {},
   "source": [
    "# Yang 2024:"
   ]
  },
  {
   "cell_type": "code",
   "execution_count": 6,
   "id": "a46bc3e2",
   "metadata": {},
   "outputs": [],
   "source": [
    "yang2024 = pd.read_csv('Yang2024.csv', index_col=0)\n",
    "\n",
    "yang2024['choice'] = yang2024['choice'].map({1:0, 2:1})\n",
    "\n",
    "yang2024['sbj'] -= 1\n",
    "\n",
    "yang2024.to_csv('Yang2024_prep.csv')"
   ]
  },
  {
   "cell_type": "markdown",
   "id": "ccdce957",
   "metadata": {},
   "source": [
    "# Krajbich 2011:"
   ]
  },
  {
   "cell_type": "code",
   "execution_count": 7,
   "id": "9545642d",
   "metadata": {},
   "outputs": [],
   "source": [
    "kr11 = pd.read_csv('Kr2011.csv')\n",
    "kr11.rename(columns={'subject': 'sbj'}, inplace=True)\n",
    "kr11['rt'] /= 1000\n",
    "\n",
    "mean_rt = kr11.groupby('sbj')['rt'].mean()\n",
    "std_rt = kr11.groupby('sbj')['rt'].std()\n",
    "RT_Max = mean_rt + 3 * std_rt\n",
    "\n",
    "rt_max = []\n",
    "for i in range(kr11.shape[0]):\n",
    "    rt_max.append(RT_Max[kr11['sbj'][i]])\n",
    "kr11['rt_max'] = rt_max\n",
    "kr11 = kr11[(kr11['rt']>0.25) & (kr11['rt']<kr11['rt_max'])].reset_index(drop=True)\n",
    "\n",
    "kr11['choice_0'] = pd.get_dummies(kr11['choice'])[0]\n",
    "kr11['choice_1'] = pd.get_dummies(kr11['choice'])[1]\n",
    "kr11['choice_2'] = pd.get_dummies(kr11['choice'])[2]\n",
    "\n",
    "mov = (kr11['item_value_0'] + kr11['item_value_1'])/2\n",
    "\n",
    "kr11['Right Value - Mean Other Value'] = kr11['item_value_2'] - mov\n",
    "kbins1 = KBinsDiscretizer(n_bins=9, encode='ordinal', strategy='uniform')\n",
    "kr11['Right Value - Mean Other Value'] = 2*(kbins1.fit_transform(kr11[['Right Value - Mean Other Value']])-4)\n",
    "\n",
    "kr11['gaze diff'] = kr11['gaze_2'] - (kr11['gaze_0'] + kr11['gaze_1'])\n",
    "kbins2 = KBinsDiscretizer(n_bins=9, encode='ordinal', strategy='uniform')\n",
    "kr11['gaze diff'] = kbins2.fit_transform(kr11[['gaze diff']])\n",
    "mms = MinMaxScaler(feature_range=(-1, 1))\n",
    "kr11['Dwell Time Advantage (R - O)'] = mms.fit_transform(kr11[['gaze diff']])\n",
    "\n",
    "kr11.to_csv('Kr2011_prep.csv')"
   ]
  },
  {
   "cell_type": "code",
   "execution_count": null,
   "id": "63da8d4e",
   "metadata": {},
   "outputs": [],
   "source": []
  },
  {
   "cell_type": "code",
   "execution_count": null,
   "id": "94aa499c",
   "metadata": {},
   "outputs": [],
   "source": []
  }
 ],
 "metadata": {
  "kernelspec": {
   "display_name": "Python 3 (ipykernel)",
   "language": "python",
   "name": "python3"
  },
  "language_info": {
   "codemirror_mode": {
    "name": "ipython",
    "version": 3
   },
   "file_extension": ".py",
   "mimetype": "text/x-python",
   "name": "python",
   "nbconvert_exporter": "python",
   "pygments_lexer": "ipython3",
   "version": "3.10.6"
  }
 },
 "nbformat": 4,
 "nbformat_minor": 5
}
